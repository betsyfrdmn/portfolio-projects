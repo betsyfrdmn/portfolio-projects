{
  "nbformat": 4,
  "nbformat_minor": 0,
  "metadata": {
    "colab": {
      "provenance": []
    },
    "kernelspec": {
      "name": "python3",
      "display_name": "Python 3"
    },
    "language_info": {
      "name": "python"
    }
  },
  "cells": [
    {
      "cell_type": "code",
      "source": [
        "def get_gradient_at_b(x,y,b,m):\n",
        "  N = len(x)\n",
        "  diff = 0\n",
        "  for i in range(N):\n",
        "    x_val = x[i]\n",
        "    y_val = y[i]\n",
        "    diff += (y_val - ((m * x_val) + b))\n",
        "  b_gradient = -(2/N) * diff\n",
        "  return b_gradient\n",
        "\n",
        "def get_gradient_at_m(x,y,b,m):\n",
        "  N = len(x)\n",
        "  diff = 0\n",
        "  for i in range(N):\n",
        "    x_val = x[i]\n",
        "    y_val = y[i]\n",
        "    diff += x_val * (y_val - ((m * x_val) + b))\n",
        "  m_gradient = -(2/N) * diff\n",
        "  return m_gradient\n",
        "\n",
        "\n",
        "def step_gradient(x,y,b_current,m_current):\n",
        "  b_gradient = get_gradient_at_b(x,y,b_current,m_current)\n",
        "  m_gradient = get_gradient_at_m(x,y,b_current,m_current)\n",
        "  b = b_current - (0.01 * b_gradient)\n",
        "  m = m_current - (0.01 * m_gradient)\n",
        "  return (b,m)\n",
        "\n",
        "months = [1,2,3,4,5,6,7,8,9,10,11,12]\n",
        "revenue = [52,74,79,95,115,110,129,126,147,146,156,184]\n",
        "\n",
        "b = 0 # current intercept guess\n",
        "m = 0 # current slope guess\n",
        "b,m = step_gradient(months,revenue,b,m) # calls function to update b and m\n",
        "print(b,m)\n"
      ],
      "metadata": {
        "colab": {
          "base_uri": "https://localhost:8080/"
        },
        "id": "vfN0geo25jLq",
        "outputId": "dfd7a2c8-3057-4cab-c93e-08123bc4e3c7"
      },
      "execution_count": null,
      "outputs": [
        {
          "output_type": "stream",
          "name": "stdout",
          "text": [
            "2.355 17.78333333333333\n"
          ]
        }
      ]
    },
    {
      "cell_type": "code",
      "source": [
        "from sklearn.linear_model import LinearRegression\n",
        "import pandas as pd\n",
        "\n",
        "model = LinearRegression()\n",
        "\n",
        "df_x_train = pd.read_excel('PS1_data.xlsx', sheet_name = 'X_train')\n",
        "df_y_train = pd.read_excel('PS1_data.xlsx', sheet_name = 'Y_train')\n",
        "x_train = df_x_train.values.flatten()\n",
        "y_train = df_y_train.values.flatten()\n",
        "\n",
        "model.fit(df_x_train,df_y_train) # returns which model it is (linear regression)\n",
        "predictions = model.predict(df_x_train)\n",
        "# print(predictions)\n",
        "model.score(df_x_train,df_y_train) # returns the coefficient of determination R squared"
      ],
      "metadata": {
        "colab": {
          "base_uri": "https://localhost:8080/"
        },
        "id": "cijEtEzK8Mjx",
        "outputId": "132b3b0e-6fe8-43a9-e281-9aaf83cfb558"
      },
      "execution_count": null,
      "outputs": [
        {
          "output_type": "execute_result",
          "data": {
            "text/plain": [
              "0.7020315537841397"
            ]
          },
          "metadata": {},
          "execution_count": 17
        }
      ]
    },
    {
      "cell_type": "code",
      "execution_count": null,
      "metadata": {
        "id": "ARy4MFyfwRCt"
      },
      "outputs": [],
      "source": [
        "# 2 - Packages\n",
        "import pandas as pd\n",
        "import numpy as np\n",
        "import matplotlib.pyplot as plt\n",
        "import math\n",
        "import copy"
      ]
    },
    {
      "cell_type": "code",
      "source": [
        "# 3 - Dataset\n",
        "# Load the data from the Excel file\n",
        "df_x_train = pd.read_excel('PS1_data.xlsx', sheet_name = 'X_train')\n",
        "df_y_train = pd.read_excel('PS1_data.xlsx', sheet_name = 'Y_train')\n",
        "\n",
        "# Convert the dataframes back to numpy arrays\n",
        "x_train = df_x_train.values.flatten()\n",
        "y_train = df_y_train.values.flatten()\n",
        "\n",
        "# Print x_train\n",
        "print(\"Type of x_train:\",type(x_train))\n",
        "print(\"First five elements of x_train are:\\n\", x_train[:5])\n",
        "\n",
        "# Print y_train\n",
        "print(\"Type of y_train:\",type(y_train))\n",
        "print(\"First five elements of y_train are:\\n\", y_train[:5])\n",
        "\n",
        "# Check dimenstions of the variables\n",
        "print ('The shape of x_train is:', x_train.shape)\n",
        "print ('The shape of y_train is: ', y_train.shape)\n",
        "print ('Number of training examples (m):', len(x_train))"
      ],
      "metadata": {
        "colab": {
          "base_uri": "https://localhost:8080/"
        },
        "id": "eTP556EsrH_U",
        "outputId": "b476a171-ad3a-47fe-f8df-a754b88a43bd"
      },
      "execution_count": null,
      "outputs": [
        {
          "output_type": "stream",
          "name": "stdout",
          "text": [
            "Type of x_train: <class 'numpy.ndarray'>\n",
            "First five elements of x_train are:\n",
            " [6.1101 5.5277 8.5186 7.0032 5.8598]\n",
            "Type of y_train: <class 'numpy.ndarray'>\n",
            "First five elements of y_train are:\n",
            " [17.592   9.1302 13.662  11.854   6.8233]\n",
            "The shape of x_train is: (97,)\n",
            "The shape of y_train is:  (97,)\n",
            "Number of training examples (m): 97\n"
          ]
        }
      ]
    },
    {
      "cell_type": "code",
      "source": [
        "# 3.1 - Data Visualization\n",
        "#  Create a scatter plot of the data. Set the title, y-axis label, and x-axis label.\n",
        "plt.scatter(x_train, y_train, marker='x', c='r')\n",
        "plt.title(\"Profits vs. Population per city\")\n",
        "plt.ylabel('Profit in $10,000')\n",
        "plt.xlabel('Population of City in 10,000s')\n",
        "plt.show()"
      ],
      "metadata": {
        "colab": {
          "base_uri": "https://localhost:8080/",
          "height": 472
        },
        "id": "L0JBaWawrMsM",
        "outputId": "635565d9-6d65-42a6-b1d3-132da7ddf8f1"
      },
      "execution_count": null,
      "outputs": [
        {
          "output_type": "display_data",
          "data": {
            "text/plain": [
              "<Figure size 640x480 with 1 Axes>"
            ],
            "image/png": "[encoded data removed]"
          },
          "metadata": {}
        }
      ]
    },
    {
      "cell_type": "code",
      "source": [
        "# 4 - Exercise 1. Compute Cost\n",
        "\n",
        "def compute_cost(x, y, w, b):\n",
        "    m = x.shape[0] # number of training examples\n",
        "    total_cost = 0\n",
        "\n",
        "    for i in range(m):\n",
        "      f_wb = w * x[i] + b # given a w and b, this calculates the expected output\n",
        "      total_cost += (f_wb - y[i]) ** 2 # this calculates the square of the difference between the expected and actual output\n",
        "\n",
        "    total_cost /= (2 * m) # dividing by m ensures that the cost function is comparable across different dataset sizes\n",
        "\n",
        "    return total_cost\n",
        "\n",
        "initial_w = 2\n",
        "initial_b = 1\n",
        "cost = compute_cost(x_train, y_train, initial_w, initial_b)\n",
        "print(f'Cost at initial w: {cost:.3f}')\n"
      ],
      "metadata": {
        "colab": {
          "base_uri": "https://localhost:8080/"
        },
        "id": "PK8EvWr92p7Z",
        "outputId": "90606555-1cfd-4b90-90ef-347af1855cd4"
      },
      "execution_count": null,
      "outputs": [
        {
          "output_type": "stream",
          "name": "stdout",
          "text": [
            "Cost at initial w: 75.203\n"
          ]
        }
      ]
    },
    {
      "cell_type": "code",
      "source": [
        "# 5 - Exercise 2. Gradient Descent\n",
        "\n",
        "def compute_gradient(x, y, w, b):\n",
        "\n",
        "  m = x.shape[0] # number of training examples\n",
        "  dj_dw = 0\n",
        "  dj_db = 0\n",
        "\n",
        "  for i in range(m):\n",
        "    f_wb = w * x[i] + b # given a w and b, this calculates the expected output\n",
        "    dj_dw += (f_wb - y[i]) * x[i] # calculates derivative of J with respect to w\n",
        "    dj_db += (f_wb - y[i]) # calculates derivative of J with respect to b\n",
        "\n",
        "  dj_dw /= m # divides by the number of training examples\n",
        "  dj_db /= m # divides by the number of training examples\n",
        "\n",
        "  return dj_dw, dj_db # returns the total gradient update from all the examples given a certain w and b\n",
        "\n",
        "test_w = 0.2\n",
        "test_b = 0.2\n",
        "tmp_dj_dw, tmp_dj_db = compute_gradient(x_train, y_train, test_w, test_b)\n",
        "print('Gradient at test w, b:', tmp_dj_dw, tmp_dj_db)\n"
      ],
      "metadata": {
        "colab": {
          "base_uri": "https://localhost:8080/"
        },
        "id": "Z7rNWUJP2-vk",
        "outputId": "77f04263-9379-44ee-81f2-683576d74578"
      },
      "execution_count": null,
      "outputs": [
        {
          "output_type": "stream",
          "name": "stdout",
          "text": [
            "Gradient at test w, b: -47.41610118114435 -4.007175051546391\n"
          ]
        }
      ]
    },
    {
      "cell_type": "code",
      "source": [
        "# 6 - Learning Parameters using Batch Gradient Descent\n",
        "\n",
        "def gradient_descent(x, y, w_in, b_in, cost_function, gradient_function, alpha, num_iters):\n",
        "\n",
        "  m = len(x) # number of training examples\n",
        "  J_history = [] # an array to store the cost J at each iteration\n",
        "  w_history = [] # an array to store the w's at each iteration\n",
        "  w = copy.deepcopy(w_in) # avoid modifying global w within function\n",
        "  b = b_in\n",
        "\n",
        "  for i in range(num_iters):\n",
        "    dj_dw, dj_db = gradient_function(x, y, w, b) # calculates the gradient given a certain w and b using the previous gradient function\n",
        "    w -= alpha * dj_dw # using gradient descent, we move up in iterations to find the optimal w\n",
        "    b -= alpha * dj_db # using gradient descent, we move up in iterations to find the optimal b\n",
        "\n",
        "    if i < 100000: # prevent resource exhaustion\n",
        "      cost = cost_function(x, y, w, b)\n",
        "      J_history.append(cost) # save the cost J at each iteration\n",
        "\n",
        "    if i % math.ceil(num_iters / 10) == 0:\n",
        "      w_history.append(w)\n",
        "      print(f\"Iteration {i:4}: Cost {J_history[-1]:8.2f}\") # prints cost in 10 intervals\n",
        "\n",
        "  return w, b, J_history, w_history #return w and J,w history for graphing\n",
        "\n",
        "initial_w = 0\n",
        "initial_b = 0\n",
        "iterations = 1500\n",
        "alpha = 0.01\n",
        "\n",
        "w, b, J_history, w_history = gradient_descent(x_train, y_train, initial_w, initial_b, compute_cost, compute_gradient, alpha, iterations)\n",
        "\n",
        "\n",
        "print(f'w, b found by gradient descent:',w,b) # this is our optimal w and b found by gradient descent"
      ],
      "metadata": {
        "colab": {
          "base_uri": "https://localhost:8080/"
        },
        "id": "nVZIVjGx7vCK",
        "outputId": "6f0af763-5fb8-4b04-e287-7d2ed21404c8"
      },
      "execution_count": null,
      "outputs": [
        {
          "output_type": "stream",
          "name": "stdout",
          "text": [
            "Iteration    0: Cost     6.74\n",
            "Iteration  150: Cost     5.31\n",
            "Iteration  300: Cost     4.96\n",
            "Iteration  450: Cost     4.76\n",
            "Iteration  600: Cost     4.64\n",
            "Iteration  750: Cost     4.57\n",
            "Iteration  900: Cost     4.53\n",
            "Iteration 1050: Cost     4.51\n",
            "Iteration 1200: Cost     4.50\n",
            "Iteration 1350: Cost     4.49\n",
            "w, b found by gradient descent: 1.166362350335582 -3.63029143940436\n"
          ]
        }
      ]
    },
    {
      "cell_type": "code",
      "source": [
        "# 7 - Exercise 3\n",
        "\n",
        "w = 1.16636235 # value of w from previous gradient descent\n",
        "b = -3.63029143940436 # value of b from previous gradient descent\n",
        "\n",
        "m = x_train.shape[0] # number of training examples\n",
        "predicted = np.zeros(m)\n",
        "\n",
        "for i in range(m):\n",
        "  predicted[i] = w * x_train[i] + b # loops through all the training examples and find the prediction for each one\n",
        "\n",
        "\n",
        "# 7.1 - Plotting the Predicted Values to see the Linear Fit\n",
        "\n",
        "# Plotting the Linear Fit\n",
        "plt.plot(x_train, predicted, color='red', label='Linear Regression Line')\n",
        "\n",
        "# Creating a Scatter Plot of the Data\n",
        "plt.scatter(x_train, y_train, color='blue', label='Training Data')\n",
        "\n",
        "# Setting the title and labels\n",
        "plt.title(\"Profits vs. Population per city\")\n",
        "plt.xlabel('Population of City in 10,000s')\n",
        "plt.ylabel('Profit in $10,000')\n",
        "\n",
        "plt.legend()\n",
        "plt.show()"
      ],
      "metadata": {
        "colab": {
          "base_uri": "https://localhost:8080/",
          "height": 472
        },
        "id": "sZ6rEfmA-Bv9",
        "outputId": "1c0aed62-7ac6-488a-ebf2-8d34b0656bfe"
      },
      "execution_count": null,
      "outputs": [
        {
          "output_type": "display_data",
          "data": {
            "text/plain": [
              "<Figure size 640x480 with 1 Axes>"
            ],
            "image/png": "[encoded data removed]"
          },
          "metadata": {}
        }
      ]
    },
    {
      "cell_type": "code",
      "source": [
        "# 8 - Exercise 4\n",
        "\n",
        "w = 1.16636235 # value of w from previous gradient descent\n",
        "b = -3.63029143940436 # value of b from previous gradient descent\n",
        "\n",
        "population1 = np.array([3.5]) # inputs population 1 in terms of 10,000s\n",
        "population2 = np.array([7.0]) # inputs population 2 in terms of 10,000s\n",
        "\n",
        "def predict_profit(pop, w, b):\n",
        "  return w * pop + b\n",
        "\n",
        "predict1 = predict_profit(population1, w, b) # makes predictions of profits for population 1\n",
        "predict2 = predict_profit(population2, w, b) # makes predictions of profits for population 2\n",
        "\n",
        "print('For population = 35,000, we predict a profit of $%.2f' %(predict1.item()*10000))\n",
        "print('For population = 70,000, we predict a profit of $%.2f' %(predict2.item()*10000))\n",
        "\n"
      ],
      "metadata": {
        "colab": {
          "base_uri": "https://localhost:8080/"
        },
        "id": "lI5dMy97-Wr1",
        "outputId": "a7bb0477-c5de-4f53-afd2-544baaafdd57"
      },
      "execution_count": null,
      "outputs": [
        {
          "output_type": "stream",
          "name": "stdout",
          "text": [
            "For population = 35,000, we predict a profit of $4519.77\n",
            "For population = 70,000, we predict a profit of $45342.45\n"
          ]
        }
      ]
    }
  ]
}